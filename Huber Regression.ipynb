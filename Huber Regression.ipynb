{
 "cells": [
  {
   "cell_type": "markdown",
   "metadata": {},
   "source": [
    "# Huber Regression:-"
   ]
  },
  {
   "cell_type": "code",
   "execution_count": 6,
   "metadata": {},
   "outputs": [
    {
     "data": {
      "text/plain": [
       "-7.284608623514572"
      ]
     },
     "execution_count": 6,
     "metadata": {},
     "output_type": "execute_result"
    }
   ],
   "source": [
    "import numpy as np\n",
    "from matplotlib import pyplot as plt\n",
    "from sklearn.linear_model import HuberRegressor, LinearRegression\n",
    "from sklearn.datasets import make_regression\n",
    "\n",
    "rng = np.random.RandomState(0)\n",
    "X, y, coef = make_regression(\n",
    "    n_samples=200, n_features=2, noise=4.0, coef=True, random_state=0)\n",
    "X[:4] = rng.uniform(10, 20, (4, 2))\n",
    "y[:4] = rng.uniform(10, 20, 4)\n",
    "huber = HuberRegressor().fit(X, y)\n",
    "huber.score(X, y)\n"
   ]
  },
  {
   "cell_type": "code",
   "execution_count": 4,
   "metadata": {},
   "outputs": [
    {
     "name": "stdout",
     "output_type": "stream",
     "text": [
      "True coefficients: [20.4923687  34.16981149]\n",
      "Huber coefficients: [17.79064252 31.01066091]\n",
      "Linear Regression coefficients: [-1.92210833  7.02266092]\n"
     ]
    }
   ],
   "source": [
    "huber.predict(X[:1,])\n",
    "\n",
    "linear = LinearRegression().fit(X, y)\n",
    "\n",
    "print(\"True coefficients:\", coef)\n",
    "\n",
    "print(\"Huber coefficients:\", huber.coef_)\n",
    "\n",
    "print(\"Linear Regression coefficients:\", linear.coef_)\n"
   ]
  },
  {
   "cell_type": "code",
   "execution_count": null,
   "metadata": {},
   "outputs": [],
   "source": []
  }
 ],
 "metadata": {
  "kernelspec": {
   "display_name": "Python 3",
   "language": "python",
   "name": "python3"
  },
  "language_info": {
   "codemirror_mode": {
    "name": "ipython",
    "version": 3
   },
   "file_extension": ".py",
   "mimetype": "text/x-python",
   "name": "python",
   "nbconvert_exporter": "python",
   "pygments_lexer": "ipython3",
   "version": "3.8.3"
  }
 },
 "nbformat": 4,
 "nbformat_minor": 4
}
